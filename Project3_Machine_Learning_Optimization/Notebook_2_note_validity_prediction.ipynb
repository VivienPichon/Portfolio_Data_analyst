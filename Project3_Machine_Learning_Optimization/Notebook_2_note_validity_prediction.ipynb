{
 "cells": [
  {
   "cell_type": "markdown",
   "id": "cddb6c3a-80c7-4e01-9ef9-c4da89706d85",
   "metadata": {},
   "source": [
    "# Model use example\n",
    "In this notebook, we will use our best model to predict if new bank notes are fake or real based on geometric data.\n",
    "\n",
    "## Import packages and data"
   ]
  },
  {
   "cell_type": "code",
   "execution_count": 20,
   "id": "285f7ff1-2306-40a9-a61a-88063b095e3e",
   "metadata": {},
   "outputs": [],
   "source": [
    "# Import packages\n",
    "## Base\n",
    "import numpy as np\n",
    "import pandas as pd\n",
    "import seaborn as sns\n",
    "import matplotlib.pyplot as plt\n",
    "\n",
    "## ML model\n",
    "from sklearn.mixture import GaussianMixture\n",
    "from sklearn.preprocessing import StandardScaler\n",
    "\n",
    "## Model import\n",
    "import joblib\n",
    "\n",
    "## Other\n",
    "from sklearn.metrics import confusion_matrix"
   ]
  },
  {
   "cell_type": "code",
   "execution_count": 39,
   "id": "b961f29d-cd2f-4fa6-8b63-562eeed956f9",
   "metadata": {},
   "outputs": [
    {
     "data": {
      "text/html": [
       "<div>\n",
       "<style scoped>\n",
       "    .dataframe tbody tr th:only-of-type {\n",
       "        vertical-align: middle;\n",
       "    }\n",
       "\n",
       "    .dataframe tbody tr th {\n",
       "        vertical-align: top;\n",
       "    }\n",
       "\n",
       "    .dataframe thead th {\n",
       "        text-align: right;\n",
       "    }\n",
       "</style>\n",
       "<table border=\"1\" class=\"dataframe\">\n",
       "  <thead>\n",
       "    <tr style=\"text-align: right;\">\n",
       "      <th></th>\n",
       "      <th>diagonal</th>\n",
       "      <th>height_left</th>\n",
       "      <th>height_right</th>\n",
       "      <th>margin_low</th>\n",
       "      <th>margin_up</th>\n",
       "      <th>length</th>\n",
       "      <th>id</th>\n",
       "    </tr>\n",
       "  </thead>\n",
       "  <tbody>\n",
       "    <tr>\n",
       "      <th>0</th>\n",
       "      <td>171.76</td>\n",
       "      <td>104.01</td>\n",
       "      <td>103.54</td>\n",
       "      <td>5.21</td>\n",
       "      <td>3.30</td>\n",
       "      <td>111.42</td>\n",
       "      <td>A_1</td>\n",
       "    </tr>\n",
       "    <tr>\n",
       "      <th>1</th>\n",
       "      <td>171.87</td>\n",
       "      <td>104.17</td>\n",
       "      <td>104.13</td>\n",
       "      <td>6.00</td>\n",
       "      <td>3.31</td>\n",
       "      <td>112.09</td>\n",
       "      <td>A_2</td>\n",
       "    </tr>\n",
       "    <tr>\n",
       "      <th>2</th>\n",
       "      <td>172.00</td>\n",
       "      <td>104.58</td>\n",
       "      <td>104.29</td>\n",
       "      <td>4.99</td>\n",
       "      <td>3.39</td>\n",
       "      <td>111.57</td>\n",
       "      <td>A_3</td>\n",
       "    </tr>\n",
       "    <tr>\n",
       "      <th>3</th>\n",
       "      <td>172.49</td>\n",
       "      <td>104.55</td>\n",
       "      <td>104.34</td>\n",
       "      <td>4.44</td>\n",
       "      <td>3.03</td>\n",
       "      <td>113.20</td>\n",
       "      <td>A_4</td>\n",
       "    </tr>\n",
       "    <tr>\n",
       "      <th>4</th>\n",
       "      <td>171.65</td>\n",
       "      <td>103.63</td>\n",
       "      <td>103.56</td>\n",
       "      <td>3.77</td>\n",
       "      <td>3.16</td>\n",
       "      <td>113.33</td>\n",
       "      <td>A_5</td>\n",
       "    </tr>\n",
       "  </tbody>\n",
       "</table>\n",
       "</div>"
      ],
      "text/plain": [
       "   diagonal  height_left  height_right  margin_low  margin_up  length   id\n",
       "0    171.76       104.01        103.54        5.21       3.30  111.42  A_1\n",
       "1    171.87       104.17        104.13        6.00       3.31  112.09  A_2\n",
       "2    172.00       104.58        104.29        4.99       3.39  111.57  A_3\n",
       "3    172.49       104.55        104.34        4.44       3.03  113.20  A_4\n",
       "4    171.65       103.63        103.56        3.77       3.16  113.33  A_5"
      ]
     },
     "execution_count": 39,
     "metadata": {},
     "output_type": "execute_result"
    }
   ],
   "source": [
    "## Import model\n",
    "model = joblib.load( 'Notes_detection_GMM.pkl' )\n",
    "\n",
    "## Import scaler\n",
    "scaler = joblib.load( 'Notes_detection_scaler.pkl' )\n",
    "\n",
    "## Import data\n",
    "new_data = pd.read_csv( \"../Data/billets_production.csv\", sep = ',')\n",
    "#new_data = pd.read_csv( \"../Data/billets.csv\", sep = ';')\n",
    "#new_data = new_data.dropna(axis = 0, how = 'any')\n",
    "\n",
    "new_data.head()"
   ]
  },
  {
   "cell_type": "code",
   "execution_count": 40,
   "id": "ba007139-8e7b-454c-ae8e-521279c5f45c",
   "metadata": {},
   "outputs": [],
   "source": [
    "## Create X and y arrays with dependent and independent variables\n",
    "### Column order for X: 'diagonal', 'height_left', 'height_right', 'margin_low', 'margin_up', 'length': \n",
    "X = new_data[['diagonal', 'height_left', 'height_right', 'margin_low', 'margin_up', 'length']]\n",
    "X = scaler.transform(X)\n",
    "#y = new_data['is_genuine']\n",
    "note_id =  new_data['id']"
   ]
  },
  {
   "cell_type": "markdown",
   "id": "a5aede75-85d3-455a-b8f7-3058d20f43dc",
   "metadata": {},
   "source": [
    "## Run model"
   ]
  },
  {
   "cell_type": "code",
   "execution_count": 41,
   "id": "80051083-84e2-479b-992f-9a2d5f92ac1a",
   "metadata": {},
   "outputs": [],
   "source": [
    "## Predict for the new note measurements\n",
    "y_pred = model.predict( X )\n",
    "\n",
    "## turn cluster number into boolean\n",
    "y_pred = ~y_pred.astype('bool')"
   ]
  },
  {
   "cell_type": "raw",
   "id": "ac37a8b8-1d18-415e-a0c5-8ea116f423e9",
   "metadata": {},
   "source": [
    "## Define confusion matrix plot\n",
    "def confusion_matrix_plot( actual, pred ):\n",
    "    cm = confusion_matrix( actual, pred )\n",
    "    sns.heatmap(cm, annot=True, fmt='d', cmap='Blues')\n",
    "    plt.xlabel('Predicted')\n",
    "    plt.ylabel('Actual')\n",
    "    plt.title('Confusion Matrix')\n",
    "    plt.show()\n",
    "\n",
    "## Create confusion matrix (if needed)\n",
    "confusion_matrix_plot( y, y_pred )"
   ]
  },
  {
   "cell_type": "code",
   "execution_count": 44,
   "id": "617af7cd-e053-4635-bf3a-d473bc521bb8",
   "metadata": {},
   "outputs": [
    {
     "data": {
      "text/plain": [
       "False    3\n",
       "True     2\n",
       "Name: count, dtype: int64"
      ]
     },
     "metadata": {},
     "output_type": "display_data"
    },
    {
     "data": {
      "text/html": [
       "<div>\n",
       "<style scoped>\n",
       "    .dataframe tbody tr th:only-of-type {\n",
       "        vertical-align: middle;\n",
       "    }\n",
       "\n",
       "    .dataframe tbody tr th {\n",
       "        vertical-align: top;\n",
       "    }\n",
       "\n",
       "    .dataframe thead th {\n",
       "        text-align: right;\n",
       "    }\n",
       "</style>\n",
       "<table border=\"1\" class=\"dataframe\">\n",
       "  <thead>\n",
       "    <tr style=\"text-align: right;\">\n",
       "      <th></th>\n",
       "      <th>id</th>\n",
       "      <th>is_genuine</th>\n",
       "    </tr>\n",
       "  </thead>\n",
       "  <tbody>\n",
       "    <tr>\n",
       "      <th>0</th>\n",
       "      <td>A_1</td>\n",
       "      <td>False</td>\n",
       "    </tr>\n",
       "    <tr>\n",
       "      <th>1</th>\n",
       "      <td>A_2</td>\n",
       "      <td>False</td>\n",
       "    </tr>\n",
       "    <tr>\n",
       "      <th>2</th>\n",
       "      <td>A_3</td>\n",
       "      <td>False</td>\n",
       "    </tr>\n",
       "    <tr>\n",
       "      <th>3</th>\n",
       "      <td>A_4</td>\n",
       "      <td>True</td>\n",
       "    </tr>\n",
       "    <tr>\n",
       "      <th>4</th>\n",
       "      <td>A_5</td>\n",
       "      <td>True</td>\n",
       "    </tr>\n",
       "  </tbody>\n",
       "</table>\n",
       "</div>"
      ],
      "text/plain": [
       "    id  is_genuine\n",
       "0  A_1       False\n",
       "1  A_2       False\n",
       "2  A_3       False\n",
       "3  A_4        True\n",
       "4  A_5        True"
      ]
     },
     "execution_count": 44,
     "metadata": {},
     "output_type": "execute_result"
    }
   ],
   "source": [
    "## Check number of fake bank notes found\n",
    "display( pd.Series(y_pred).value_counts() )\n",
    "\n",
    "pd.DataFrame({\n",
    "    'id' : note_id,\n",
    "    'is_genuine' : y_pred\n",
    "})"
   ]
  }
 ],
 "metadata": {
  "kernelspec": {
   "display_name": "3.12_With_Dython",
   "language": "python",
   "name": "dython_env"
  },
  "language_info": {
   "codemirror_mode": {
    "name": "ipython",
    "version": 3
   },
   "file_extension": ".py",
   "mimetype": "text/x-python",
   "name": "python",
   "nbconvert_exporter": "python",
   "pygments_lexer": "ipython3",
   "version": "3.12.8"
  }
 },
 "nbformat": 4,
 "nbformat_minor": 5
}
